{
 "cells": [
  {
   "cell_type": "code",
   "execution_count": 28,
   "metadata": {
    "collapsed": false
   },
   "outputs": [],
   "source": [
    "def function(folder_name):\n",
    "    import pandas as pd\n",
    "\n",
    "    destination = \"/Users/NikiAthanasiadou/Datasets/BRFSS_LANDLINES/\"+folder_name+\".XPT\"\n",
    "    b11 = pd.read_sas(destination)\n",
    "    #accomodate variations in field names (known)\n",
    "    if \"_AGE80\" in list(b11.columns):\n",
    "        b11 = b11[['_STATE', '_AGE80', 'EDUCA','DIABETE3', '_RFBMI5']]\n",
    "    else:\n",
    "        b11 = b11[['_STATE', 'AGE', 'EDUCA', 'DIABETE3', '_RFBMI5']]\n",
    "    #Harmonize column names\n",
    "    b11.columns = ['_STATE', 'AGE', 'EDUCA', 'DIABETE3', '_RFBMI5']\n",
    "    \n",
    "    #From age to age range (categorical)\n",
    "    b11['AGE'][b11['AGE']==7] = 'NA'\n",
    "    b11['AGE'][b11['AGE']==9] = 'NA'\n",
    "    b11['AGE'][b11['AGE']<25] = 'Age 18-24'\n",
    "    b11['AGE'][b11['AGE']<35] = 'Age 25-34'\n",
    "    b11['AGE'][b11['AGE']<44] = 'Age 35-44'\n",
    "    b11['AGE'][b11['AGE']<54] = 'Age 45-54'\n",
    "    b11['AGE'][b11['AGE']<64] = 'Age 55-64'\n",
    "    b11['AGE'][b11['AGE'] <200] = 'Age 65 or older'\n",
    "\n",
    "#Compress identical rows\n",
    "    b11 = b11.groupby(b11.columns.tolist(), as_index=False).size().reset_index()\n",
    "\n",
    "#Make categories human-readable\n",
    "    states = {1:'Alabama', 2:'Alaska',4:'Arizona',5:'Arkansas',6:'California',8:'Colorado',9:'Connecticut',10:'Delaware',11:'District of Columbia',12:'Florida',13:'Georgia',15:'Hawaii',16:'Idaho',17:'Illinois',18:'Indiana',19:'Iowa',20:'Kansas',21:'Kentucky',22:'Louisiana',23:'Maine',24:'Maryland',25:'Massachusetts',26:'Michigan',27:'Minnesota',28:'Mississippi',29:'Missouri',30:'Montana',31:'Nebraska',32:'Nevada',33:'New Hampshire',34:'New Jersey',35:'New Mexico',36:'New York',37:'North Carolina',38:'North Dakota',39:'Ohio',40:'Oklahoma',41:'Oregon',42:'Pennsylvania',44:'Rhode Island',45:'South Carolina',46:'South Dakota',47:'Tennessee',48:'Texas',49:'Utah',50:'Vermont', 51:'Virginia', 53:'Washington',54:'West Virginia',55:'Wisconsin',56:'Wyoming', 66:'NA', 72:'NA'}\n",
    "    education = {1:'No school',2:'Elementary school',3:'Some high school',4:'High school graduate',5:'Some college or techical school',6:'College graduate',9:'NA'}\n",
    "    diabetes  = {1:1,2:0, 3:0, 4:1,7:\"NA\",9:\"NA\"}\n",
    "    bmi = {1:0, 2:1, 9:\"NA\" }\n",
    "    a = []\n",
    "    b = []\n",
    "    c = []\n",
    "    d = []\n",
    "    for i in range(len(b11['AGE'])):\n",
    "# Fix the state names\n",
    "        a.append(states[b11['_STATE'] [i]])\n",
    "#Fix the education level\n",
    "        b.append(education[b11['EDUCA'] [i]])\n",
    "#Fix diabetes\n",
    "        c.append(diabetes[b11['DIABETE3'][i]])\n",
    "#Fix bmi\n",
    "        d.append(bmi[b11['_RFBMI5'][i]])\n",
    "    b11['_STATE'] = a\n",
    "    b11['EDUCA'] =  b\n",
    "    b11['DIABETE3'] = c\n",
    "    b11['_RFBMI5'] = d\n",
    "    \n",
    "    b11.columns = ['State', 'Age', 'Education level', 'Diabetes', 'BMI', 'Count']\n",
    "## By following the method above (and adding the relevant columns at the begining) I can add anything\n",
    "    \n",
    "    \n",
    "#Add column stating if either BMI or Diabetes are a Yes. If one of the two is NA, all is NA\n",
    "    Both = []\n",
    "    for i in range(len(b11['Age'])):\n",
    "        if (b11['BMI'][i]==1) & (b11['Diabetes'][i]==1):\n",
    "            Both.append(1)\n",
    "        elif (b11['BMI'][i]==\"NA\") ^ (b11['Diabetes'][i]==\"NA\"):\n",
    "            Both.append(\"NA\")\n",
    "        else :\n",
    "            Both.append(0)\n",
    "    b11['Both'] = pd.Series(Both, index=b11.index) \n",
    "        \n",
    "#fix column names\n",
    "   \n",
    "    return(b11)"
   ]
  },
  {
   "cell_type": "code",
   "execution_count": 29,
   "metadata": {
    "collapsed": false
   },
   "outputs": [],
   "source": [
    "#Only run once\n",
    "land2011 = function(\"LLCP2011\")\n",
    "land2012 = function(\"LAND2012\")\n",
    "land2013 = function(\"LAND2013\")\n",
    "land2014 = function(\"LAND2014\")"
   ]
  },
  {
   "cell_type": "code",
   "execution_count": 30,
   "metadata": {
    "collapsed": false
   },
   "outputs": [],
   "source": [
    "land2011.to_csv('land2011.txt')\n",
    "land2012.to_csv('land2012.txt')\n",
    "land2013.to_csv('land2013.txt')\n",
    "land2014.to_csv('land2014.txt')"
   ]
  },
  {
   "cell_type": "code",
   "execution_count": null,
   "metadata": {
    "collapsed": true
   },
   "outputs": [],
   "source": []
  }
 ],
 "metadata": {
  "kernelspec": {
   "display_name": "Python [basic_env]",
   "language": "python",
   "name": "Python [basic_env]"
  },
  "language_info": {
   "codemirror_mode": {
    "name": "ipython",
    "version": 2
   },
   "file_extension": ".py",
   "mimetype": "text/x-python",
   "name": "python",
   "nbconvert_exporter": "python",
   "pygments_lexer": "ipython2",
   "version": "2.7.12"
  }
 },
 "nbformat": 4,
 "nbformat_minor": 0
}
